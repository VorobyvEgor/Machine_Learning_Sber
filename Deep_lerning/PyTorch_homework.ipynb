{
  "cells": [
    {
      "cell_type": "markdown",
      "metadata": {
        "id": "view-in-github",
        "colab_type": "text"
      },
      "source": [
        "<a href=\"https://colab.research.google.com/github/VorobyvEgor/Machine_Learning_Sber/blob/main/Deep_lerning/PyTorch_homework.ipynb\" target=\"_parent\"><img src=\"https://colab.research.google.com/assets/colab-badge.svg\" alt=\"Open In Colab\"/></a>"
      ]
    },
    {
      "cell_type": "markdown",
      "metadata": {
        "toc": true,
        "id": "iapQc4Imfaya"
      },
      "source": [
        "<h1>Table of Contents<span class=\"tocSkip\"></span></h1>\n",
        "<div class=\"toc\"><ul class=\"toc-item\"><li><span><a href=\"#Задача-1\" data-toc-modified-id=\"Задача-1-1\"><span class=\"toc-item-num\">1&nbsp;&nbsp;</span>Задача 1</a></span></li><li><span><a href=\"#Задача-2\" data-toc-modified-id=\"Задача-2-2\"><span class=\"toc-item-num\">2&nbsp;&nbsp;</span>Задача 2</a></span></li><li><span><a href=\"#Задача-3\" data-toc-modified-id=\"Задача-3-3\"><span class=\"toc-item-num\">3&nbsp;&nbsp;</span>Задача 3</a></span></li><li><span><a href=\"#Задача-4\" data-toc-modified-id=\"Задача-4-4\"><span class=\"toc-item-num\">4&nbsp;&nbsp;</span>Задача 4</a></span></li><li><span><a href=\"#Задача-5\" data-toc-modified-id=\"Задача-5-5\"><span class=\"toc-item-num\">5&nbsp;&nbsp;</span>Задача 5</a></span></li></ul></div>"
      ]
    },
    {
      "cell_type": "markdown",
      "metadata": {
        "id": "view-in-github"
      },
      "source": [
        "<a href=\"https://colab.research.google.com/github/VorobyvEgor/Machine_Learning_Sber/blob/main/Deep_lerning/PyTorch_homework.ipynb\" target=\"_parent\"><img src=\"https://colab.research.google.com/assets/colab-badge.svg\" alt=\"Open In Colab\"/></a>"
      ]
    },
    {
      "cell_type": "code",
      "execution_count": 2,
      "metadata": {
        "id": "KdQ1uL78bk6E"
      },
      "outputs": [],
      "source": [
        "import torch"
      ]
    },
    {
      "cell_type": "markdown",
      "metadata": {
        "id": "MLFR4EvXfayk"
      },
      "source": [
        "# Задача 1"
      ]
    },
    {
      "cell_type": "markdown",
      "metadata": {
        "id": "rkRm5Z2tfayl"
      },
      "source": [
        "1) Создайте два вещественных тензора: a размером (3, 4) и b размером (12,)\n",
        "\n",
        "2) Создайте тензор c, являющийся тензором b, но размера (2, 2, 3)\n",
        "\n",
        "3) Выведите первый столбец матрицы a с помощью индексации "
      ]
    },
    {
      "cell_type": "code",
      "execution_count": null,
      "metadata": {
        "id": "A645fGxWfayn"
      },
      "outputs": [],
      "source": [
        "a = torch.FloatTensor(3, 4)\n",
        "b = torch.FloatTensor(12)"
      ]
    },
    {
      "cell_type": "code",
      "execution_count": null,
      "metadata": {
        "id": "ipNhyxKtfayo",
        "outputId": "8d378f05-388f-4a73-c720-57e372182aef"
      },
      "outputs": [
        {
          "data": {
            "text/plain": [
              "tensor([[0., 0., 0., 0.],\n",
              "        [0., 0., 0., 0.],\n",
              "        [0., 0., 0., 0.]])"
            ]
          },
          "execution_count": 4,
          "metadata": {},
          "output_type": "execute_result"
        }
      ],
      "source": [
        "a"
      ]
    },
    {
      "cell_type": "code",
      "execution_count": null,
      "metadata": {
        "id": "Xuy9_Gzvfayp",
        "outputId": "6f478b51-012a-48a8-cf35-babd5b63404f"
      },
      "outputs": [
        {
          "data": {
            "text/plain": [
              "tensor([0., 0., 0., 0., 0., 0., 0., 0., 0., 0., 0., 0.])"
            ]
          },
          "execution_count": 5,
          "metadata": {},
          "output_type": "execute_result"
        }
      ],
      "source": [
        "b"
      ]
    },
    {
      "cell_type": "code",
      "execution_count": null,
      "metadata": {
        "id": "NA6rgdrvfayr"
      },
      "outputs": [],
      "source": [
        "c = b.view(2, 2, 3)"
      ]
    },
    {
      "cell_type": "code",
      "execution_count": null,
      "metadata": {
        "id": "knOTeKRqfays",
        "outputId": "042e06c9-dc27-476e-fd00-dd548833511e"
      },
      "outputs": [
        {
          "data": {
            "text/plain": [
              "tensor([[[0., 0., 0.],\n",
              "         [0., 0., 0.]],\n",
              "\n",
              "        [[0., 0., 0.],\n",
              "         [0., 0., 0.]]])"
            ]
          },
          "execution_count": 7,
          "metadata": {},
          "output_type": "execute_result"
        }
      ],
      "source": [
        "c"
      ]
    },
    {
      "cell_type": "code",
      "execution_count": null,
      "metadata": {
        "id": "K8PQKnWlfayu",
        "outputId": "686f4e57-69d9-4474-893a-a21986ca231a"
      },
      "outputs": [
        {
          "data": {
            "text/plain": [
              "tensor([0., 0., 0.])"
            ]
          },
          "execution_count": 14,
          "metadata": {},
          "output_type": "execute_result"
        }
      ],
      "source": [
        "a[:, 0]"
      ]
    },
    {
      "cell_type": "markdown",
      "metadata": {
        "id": "dbmrF7_yfayv"
      },
      "source": [
        "# Задача 2"
      ]
    },
    {
      "cell_type": "markdown",
      "metadata": {
        "id": "TtwrUu6Ofayw"
      },
      "source": [
        "1) Создайте два вещественных тензора: a размером (5, 2) и b размером (1,10)\n",
        "\n",
        "2) Создайте тензор c, являющийся тензором b, но размера (5, 2)\n",
        "\n",
        "3) Произведите все арифметические операции с тензорами a и c "
      ]
    },
    {
      "cell_type": "code",
      "execution_count": null,
      "metadata": {
        "id": "4orTfSL3fayx"
      },
      "outputs": [],
      "source": [
        "a = torch.FloatTensor(5, 2)\n",
        "b = torch.FloatTensor(1, 10)"
      ]
    },
    {
      "cell_type": "code",
      "execution_count": null,
      "metadata": {
        "id": "_CdGzfLVfayy",
        "outputId": "376a49dd-f2cb-4cd7-8640-c3ccad0dc86b"
      },
      "outputs": [
        {
          "data": {
            "text/plain": [
              "tensor([[0., 0.],\n",
              "        [0., 0.],\n",
              "        [0., 0.],\n",
              "        [0., 0.],\n",
              "        [0., 0.]])"
            ]
          },
          "execution_count": 17,
          "metadata": {},
          "output_type": "execute_result"
        }
      ],
      "source": [
        "a"
      ]
    },
    {
      "cell_type": "code",
      "execution_count": null,
      "metadata": {
        "id": "GaHCslIWfayz",
        "outputId": "f6b5757b-7e5d-4204-ca6f-8e07ceb6907e"
      },
      "outputs": [
        {
          "data": {
            "text/plain": [
              "tensor([[0., 0., 0., 0., 0., 0., 0., 0., 0., 0.]])"
            ]
          },
          "execution_count": 18,
          "metadata": {},
          "output_type": "execute_result"
        }
      ],
      "source": [
        "b"
      ]
    },
    {
      "cell_type": "code",
      "execution_count": null,
      "metadata": {
        "id": "pLEgHz_6fay0"
      },
      "outputs": [],
      "source": [
        "c = b.view(5, 2)"
      ]
    },
    {
      "cell_type": "code",
      "execution_count": null,
      "metadata": {
        "id": "Rx5hmNDHfay1",
        "outputId": "ec966eec-bea5-482b-f9b7-0f919c7e880f"
      },
      "outputs": [
        {
          "data": {
            "text/plain": [
              "tensor([[0., 0.],\n",
              "        [0., 0.],\n",
              "        [0., 0.],\n",
              "        [0., 0.],\n",
              "        [0., 0.]])"
            ]
          },
          "execution_count": 19,
          "metadata": {},
          "output_type": "execute_result"
        }
      ],
      "source": [
        "c"
      ]
    },
    {
      "cell_type": "code",
      "execution_count": null,
      "metadata": {
        "id": "D6FwQdC7fay2",
        "outputId": "224239b6-eeda-4548-f55f-b83143a05795"
      },
      "outputs": [
        {
          "data": {
            "text/plain": [
              "tensor([[0., 0.],\n",
              "        [0., 0.],\n",
              "        [0., 0.],\n",
              "        [0., 0.],\n",
              "        [0., 0.]])"
            ]
          },
          "execution_count": 20,
          "metadata": {},
          "output_type": "execute_result"
        }
      ],
      "source": [
        "a.add(c)"
      ]
    },
    {
      "cell_type": "code",
      "execution_count": null,
      "metadata": {
        "id": "F61Ha5Lrfay3",
        "outputId": "a0820cbc-4a7f-4fa9-936b-9b035c9941d2"
      },
      "outputs": [
        {
          "data": {
            "text/plain": [
              "tensor([[0., 0.],\n",
              "        [0., 0.],\n",
              "        [0., 0.],\n",
              "        [0., 0.],\n",
              "        [0., 0.]])"
            ]
          },
          "execution_count": 21,
          "metadata": {},
          "output_type": "execute_result"
        }
      ],
      "source": [
        "a.sub(c)"
      ]
    },
    {
      "cell_type": "code",
      "execution_count": null,
      "metadata": {
        "id": "CerAJGsGfay3",
        "outputId": "4c52c673-b749-4674-efdf-cdced50a7ccb"
      },
      "outputs": [
        {
          "data": {
            "text/plain": [
              "tensor([[0., 0.],\n",
              "        [0., 0.],\n",
              "        [0., 0.],\n",
              "        [0., 0.],\n",
              "        [0., 0.]])"
            ]
          },
          "execution_count": 22,
          "metadata": {},
          "output_type": "execute_result"
        }
      ],
      "source": [
        "a.mul(c)"
      ]
    },
    {
      "cell_type": "code",
      "execution_count": null,
      "metadata": {
        "id": "i1ZBwTztfay4",
        "outputId": "974f183b-7ba5-4fa5-e4bb-1dddad0b7ee2"
      },
      "outputs": [
        {
          "data": {
            "text/plain": [
              "tensor([[nan, nan],\n",
              "        [nan, nan],\n",
              "        [nan, nan],\n",
              "        [nan, nan],\n",
              "        [nan, nan]])"
            ]
          },
          "execution_count": 23,
          "metadata": {},
          "output_type": "execute_result"
        }
      ],
      "source": [
        "a.div(c)"
      ]
    },
    {
      "cell_type": "markdown",
      "metadata": {
        "id": "Ibhe6U5Ufay5"
      },
      "source": [
        "# Задача 3"
      ]
    },
    {
      "cell_type": "markdown",
      "metadata": {
        "id": "2P-Ft1jQfay6"
      },
      "source": [
        "1) Создайте тензор целых чисел images размерности (100, 200, 200, 3) (можно интерпретировать это как 100 картинок размера 200х200 с тремя цветовыми каналами, то есть 100 цветных изображений 200х200). Заполните его нулями\n",
        "\n",
        "2) Сделайте так, чтобы у i-ой по порядку картинки была нарисована белая полоса толщиной два пикселя в строках, которые соответствуют номеру картинки. Например, у 3-ей по порядку картинки белая полоска будет занимать 6 и 7 строки, у 99 -- 198 и 199. Сделать белую строку можно, записав в ячейки тензора число 255 (по всем трём каналам). Выведите пару примеров с помощоью pylot\n",
        "\n",
        "3) Посчитайте среднее тензора images по 1-ой оси (по сути - средняя картинка), умножьте полученный тензор на 70. Нарисуйте с помощью pyplot, должна получиться серая картинка (при взятии среднего нужно привести тензор к float с помощью .float(), при отрисовке обратно к int с помощью .int())"
      ]
    },
    {
      "cell_type": "code",
      "execution_count": 19,
      "metadata": {
        "id": "mrVlwGhJfay7"
      },
      "outputs": [],
      "source": [
        "images = torch.FloatTensor(100, 200, 200, 3).zero_()"
      ]
    },
    {
      "cell_type": "code",
      "execution_count": 20,
      "metadata": {
        "colab": {
          "base_uri": "https://localhost:8080/"
        },
        "id": "nJv86TGPfay7",
        "outputId": "a0722927-d07a-4c5f-a2a2-04a3b40e27b4"
      },
      "outputs": [
        {
          "output_type": "execute_result",
          "data": {
            "text/plain": [
              "100"
            ]
          },
          "metadata": {},
          "execution_count": 20
        }
      ],
      "source": [
        "images.shape[0]"
      ]
    },
    {
      "cell_type": "code",
      "execution_count": 21,
      "metadata": {
        "id": "o3lr2Cfgfay8"
      },
      "outputs": [],
      "source": [
        "for i in range(images.shape[0]):\n",
        "  images[i, 2*i:2*i+2, :, :] = 255"
      ]
    },
    {
      "cell_type": "code",
      "source": [
        "import matplotlib.pyplot as plt"
      ],
      "metadata": {
        "id": "VNdZttGni26S"
      },
      "execution_count": 22,
      "outputs": []
    },
    {
      "cell_type": "code",
      "source": [
        "plt.imshow(images[50].numpy());"
      ],
      "metadata": {
        "colab": {
          "base_uri": "https://localhost:8080/",
          "height": 287
        },
        "id": "cBudrosOi7h5",
        "outputId": "18be6af8-f056-47c0-bd7d-91cba600b864"
      },
      "execution_count": 26,
      "outputs": [
        {
          "output_type": "stream",
          "name": "stderr",
          "text": [
            "Clipping input data to the valid range for imshow with RGB data ([0..1] for floats or [0..255] for integers).\n"
          ]
        },
        {
          "output_type": "display_data",
          "data": {
            "image/png": "[encoded data removed]",
            "text/plain": [
              "<Figure size 432x288 with 1 Axes>"
            ]
          },
          "metadata": {
            "needs_background": "light"
          }
        }
      ]
    },
    {
      "cell_type": "code",
      "source": [
        "mean_image = images.float().mean(dim=0) * 70\n",
        "plt.imshow(mean_image.int());"
      ],
      "metadata": {
        "colab": {
          "base_uri": "https://localhost:8080/",
          "height": 269
        },
        "id": "jId0EueDjD7m",
        "outputId": "d6074bb8-b07e-4fa6-b5b0-37bf713dc768"
      },
      "execution_count": 29,
      "outputs": [
        {
          "output_type": "display_data",
          "data": {
            "image/png": "[encoded data removed]",
            "text/plain": [
              "<Figure size 432x288 with 1 Axes>"
            ]
          },
          "metadata": {
            "needs_background": "light"
          }
        }
      ]
    },
    {
      "cell_type": "markdown",
      "metadata": {
        "id": "cCjCDFRtfay8"
      },
      "source": [
        "# Задача 4"
      ]
    },
    {
      "cell_type": "markdown",
      "metadata": {
        "id": "ak6i5niqfay9"
      },
      "source": [
        "Напишите функцию forward_pass(X, w) (w0 входит в w) для одного нейрона (с сигмоидой) с помощью PyTorch"
      ]
    },
    {
      "cell_type": "code",
      "execution_count": null,
      "metadata": {
        "id": "415Vwqjifay9"
      },
      "outputs": [],
      "source": [
        "def forward_pass(X, w):\n",
        "    return torch.sigmoid(X @ w)"
      ]
    },
    {
      "cell_type": "markdown",
      "metadata": {
        "id": "AaEmoa8Efay-"
      },
      "source": [
        "# Задача 5"
      ]
    },
    {
      "cell_type": "markdown",
      "metadata": {
        "id": "c34QANdsfay_"
      },
      "source": [
        "1) Перейдите на Google Colaboratory, чтобы работать с GPU. Загрузите туда этот ноутбук (Upload notebook)\n",
        "\n",
        "2) В Colab нажмите в меню сверху: Runtime -> Change Runtime Type -> GPU, где изначально стоит None\n",
        "\n",
        "3) Объявите тензор a размера (2, 3, 4) и тензор b размера (1, 8, 3) на GPU, иницилизируйте их случайно равномерно (.uniform_())\n",
        "\n",
        "4) Затем измените форму тензора b, чтобы она совпадала с формой тензора a, получите тензор c\n",
        "\n",
        "5) Переместите c на CPU, переместите a на CPU\n",
        "\n",
        "6) Оберните их в Variable()\n",
        "\n",
        "7) Объявите тензор L = torch.mean((c - a)**2) и посчитайте градиент L по c ( то есть ∂L∂c)\n",
        "\n",
        "8) Выведите градиент L по c"
      ]
    },
    {
      "cell_type": "code",
      "execution_count": 3,
      "metadata": {
        "id": "NPl89WsbfazA"
      },
      "outputs": [],
      "source": [
        "a = torch.FloatTensor(2, 3, 4).uniform_().cuda()\n",
        "b = torch.FloatTensor(1, 8, 3).uniform_().cuda()"
      ]
    },
    {
      "cell_type": "code",
      "source": [
        "a"
      ],
      "metadata": {
        "colab": {
          "base_uri": "https://localhost:8080/"
        },
        "id": "A4mVUYeGfzQD",
        "outputId": "65833f91-58bf-4501-e397-8e80f288cc23"
      },
      "execution_count": 7,
      "outputs": [
        {
          "output_type": "execute_result",
          "data": {
            "text/plain": [
              "tensor([[[0.5123, 0.6577, 0.4691, 0.1562],\n",
              "         [0.2997, 0.8640, 0.2368, 0.1877],\n",
              "         [0.5382, 0.6140, 0.1099, 0.4007]],\n",
              "\n",
              "        [[0.9599, 0.6723, 0.2140, 0.7519],\n",
              "         [0.8527, 0.1882, 0.0713, 0.4621],\n",
              "         [0.9612, 0.1674, 0.9916, 0.4133]]], device='cuda:0')"
            ]
          },
          "metadata": {},
          "execution_count": 7
        }
      ]
    },
    {
      "cell_type": "code",
      "source": [
        "b"
      ],
      "metadata": {
        "colab": {
          "base_uri": "https://localhost:8080/"
        },
        "id": "bUpsdTpsfzyq",
        "outputId": "44fa6f9a-c4e6-449a-d136-48b3bd418ade"
      },
      "execution_count": 8,
      "outputs": [
        {
          "output_type": "execute_result",
          "data": {
            "text/plain": [
              "tensor([[[0.6811, 0.3410, 0.0021],\n",
              "         [0.6635, 0.6862, 0.7827],\n",
              "         [0.4912, 0.3741, 0.6585],\n",
              "         [0.5743, 0.5626, 0.1142],\n",
              "         [0.3306, 0.4099, 0.5106],\n",
              "         [0.6547, 0.4032, 0.8604],\n",
              "         [0.1709, 0.6635, 0.6850],\n",
              "         [0.7519, 0.9846, 0.7103]]], device='cuda:0')"
            ]
          },
          "metadata": {},
          "execution_count": 8
        }
      ]
    },
    {
      "cell_type": "code",
      "source": [
        "c = b.view(a.size())"
      ],
      "metadata": {
        "id": "vFfznJg5f0fy"
      },
      "execution_count": 4,
      "outputs": []
    },
    {
      "cell_type": "code",
      "source": [
        "c"
      ],
      "metadata": {
        "colab": {
          "base_uri": "https://localhost:8080/"
        },
        "id": "4GlQYNENgoK4",
        "outputId": "51f04163-0780-4675-b7a5-ef83da6a3a6e"
      },
      "execution_count": 5,
      "outputs": [
        {
          "output_type": "execute_result",
          "data": {
            "text/plain": [
              "tensor([[[0.6811, 0.3410, 0.0021, 0.6635],\n",
              "         [0.6862, 0.7827, 0.4912, 0.3741],\n",
              "         [0.6585, 0.5743, 0.5626, 0.1142]],\n",
              "\n",
              "        [[0.3306, 0.4099, 0.5106, 0.6547],\n",
              "         [0.4032, 0.8604, 0.1709, 0.6635],\n",
              "         [0.6850, 0.7519, 0.9846, 0.7103]]], device='cuda:0')"
            ]
          },
          "metadata": {},
          "execution_count": 5
        }
      ]
    },
    {
      "cell_type": "code",
      "source": [
        "c.is_cuda"
      ],
      "metadata": {
        "colab": {
          "base_uri": "https://localhost:8080/"
        },
        "id": "ohTj8wMGgzwv",
        "outputId": "7de4005f-4341-4855-d3d0-147000ccfa7b"
      },
      "execution_count": 10,
      "outputs": [
        {
          "output_type": "execute_result",
          "data": {
            "text/plain": [
              "True"
            ]
          },
          "metadata": {},
          "execution_count": 10
        }
      ]
    },
    {
      "cell_type": "code",
      "source": [
        "c = c.cpu()\n",
        "a = a.cpu()"
      ],
      "metadata": {
        "id": "jZKqyxI8g_BV"
      },
      "execution_count": 12,
      "outputs": []
    },
    {
      "cell_type": "code",
      "source": [
        "from torch.autograd import Variable"
      ],
      "metadata": {
        "id": "Ihht33nuhFpV"
      },
      "execution_count": 13,
      "outputs": []
    },
    {
      "cell_type": "code",
      "source": [
        "c = Variable(c, requires_grad=True)\n",
        "a = Variable(a, requires_grad=True)"
      ],
      "metadata": {
        "id": "23rCnvcvhRrj"
      },
      "execution_count": 14,
      "outputs": []
    },
    {
      "cell_type": "code",
      "source": [
        "L = torch.mean((c - a)**2)"
      ],
      "metadata": {
        "id": "1aiDljYohbZ7"
      },
      "execution_count": 15,
      "outputs": []
    },
    {
      "cell_type": "code",
      "source": [
        "L.backward()"
      ],
      "metadata": {
        "id": "MH0fRRM2heor"
      },
      "execution_count": 16,
      "outputs": []
    },
    {
      "cell_type": "code",
      "source": [
        "c.grad"
      ],
      "metadata": {
        "colab": {
          "base_uri": "https://localhost:8080/"
        },
        "id": "8JJs6CgMhjSL",
        "outputId": "ddb71900-c632-4bae-b99c-199e7fc568b4"
      },
      "execution_count": 18,
      "outputs": [
        {
          "output_type": "execute_result",
          "data": {
            "text/plain": [
              "tensor([[[ 0.0141, -0.0264, -0.0389,  0.0423],\n",
              "         [ 0.0322, -0.0068,  0.0212,  0.0155],\n",
              "         [ 0.0100, -0.0033,  0.0377, -0.0239]],\n",
              "\n",
              "        [[-0.0524, -0.0219,  0.0247, -0.0081],\n",
              "         [-0.0375,  0.0560,  0.0083,  0.0168],\n",
              "         [-0.0230,  0.0487, -0.0006,  0.0248]]])"
            ]
          },
          "metadata": {},
          "execution_count": 18
        }
      ]
    },
    {
      "cell_type": "code",
      "source": [
        ""
      ],
      "metadata": {
        "id": "NYhVWEwChnu7"
      },
      "execution_count": null,
      "outputs": []
    }
  ],
  "metadata": {
    "colab": {
      "collapsed_sections": [],
      "name": "PyTorch_homework.ipynb",
      "provenance": [],
      "include_colab_link": true
    },
    "kernelspec": {
      "display_name": "Python 3",
      "language": "python",
      "name": "python3"
    },
    "language_info": {
      "codemirror_mode": {
        "name": "ipython",
        "version": 3
      },
      "file_extension": ".py",
      "mimetype": "text/x-python",
      "name": "python",
      "nbconvert_exporter": "python",
      "pygments_lexer": "ipython3",
      "version": "3.8.8"
    },
    "toc": {
      "base_numbering": 1,
      "nav_menu": {},
      "number_sections": true,
      "sideBar": true,
      "skip_h1_title": false,
      "title_cell": "Table of Contents",
      "title_sidebar": "Contents",
      "toc_cell": true,
      "toc_position": {},
      "toc_section_display": true,
      "toc_window_display": true
    },
    "accelerator": "GPU"
  },
  "nbformat": 4,
  "nbformat_minor": 0
}