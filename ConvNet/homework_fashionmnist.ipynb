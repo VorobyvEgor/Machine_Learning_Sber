{
 "cells": [
  {
   "cell_type": "markdown",
   "metadata": {
    "toc": true
   },
   "source": [
    "<h1>Table of Contents<span class=\"tocSkip\"></span></h1>\n",
    "<div class=\"toc\"><ul class=\"toc-item\"><li><span><a href=\"#FashionMNIST\" data-toc-modified-id=\"FashionMNIST-1\"><span class=\"toc-item-num\">1&nbsp;&nbsp;</span><b>FashionMNIST</b></a></span></li><li><span><a href=\"#FashionMNIST\" data-toc-modified-id=\"FashionMNIST-2\"><span class=\"toc-item-num\">2&nbsp;&nbsp;</span><b>FashionMNIST</b></a></span></li><li><span><a href=\"#Данные\" data-toc-modified-id=\"Данные-3\"><span class=\"toc-item-num\">3&nbsp;&nbsp;</span><b>Данные</b></a></span></li><li><span><a href=\"#Задание\" data-toc-modified-id=\"Задание-4\"><span class=\"toc-item-num\">4&nbsp;&nbsp;</span><b>Задание</b></a></span></li></ul></div>"
   ]
  },
  {
   "cell_type": "markdown",
   "metadata": {
    "colab_type": "text",
    "id": "y4TIC_99WsxT"
   },
   "source": [
    "---"
   ]
  },
  {
   "cell_type": "markdown",
   "metadata": {
    "colab_type": "text",
    "id": "ezjWeWD7WsxU"
   },
   "source": [
    "<h2 style=\"text-align: center;\"><b>FashionMNIST</b></h2>"
   ]
  },
  {
   "cell_type": "markdown",
   "metadata": {
    "colab_type": "text",
    "id": "1bsX5wbIWsxV"
   },
   "source": [
    "---"
   ]
  },
  {
   "cell_type": "markdown",
   "metadata": {
    "colab_type": "text",
    "id": "k-V-v1F-WsxW"
   },
   "source": [
    "В этом ноутбуке Вам предстоит самостоятельно попрактиковаться в написаноо нейросетей для распознавания датасета, похожего на MNIST, но более интересного -- чёрно-белых изображений одежды."
   ]
  },
  {
   "cell_type": "markdown",
   "metadata": {
    "colab_type": "text",
    "id": "AkmeeD-iWsxX"
   },
   "source": [
    "<h2 style=\"text-align: center;\"><b>FashionMNIST</b></h2>"
   ]
  },
  {
   "cell_type": "markdown",
   "metadata": {
    "colab_type": "text",
    "id": "AygNFOvoWsxY"
   },
   "source": [
    "<img src=\"https://emiliendupont.github.io/imgs/mnist-chicken/mnist-and-fashion-examples.png\">"
   ]
  },
  {
   "cell_type": "markdown",
   "metadata": {
    "colab_type": "text",
    "id": "s-u9DDJYWsxg"
   },
   "source": [
    "<h2 style=\"text-align: center;\"><b>Данные</b></h2>"
   ]
  },
  {
   "cell_type": "markdown",
   "metadata": {
    "colab_type": "text",
    "id": "YNF5C2b_Wsxh"
   },
   "source": [
    "Мы будем работать с картинками одежды (чёрно-белыми, то есть цветовых каналов не 3, а 1). По входной картинке нужно предсказать тип одежды."
   ]
  },
  {
   "cell_type": "code",
   "execution_count": 0,
   "metadata": {
    "colab": {},
    "colab_type": "code",
    "id": "2IYPMzDudZeN"
   },
   "outputs": [],
   "source": [
    "# !pip install torchvision\n",
    "\n",
    "import numpy as np\n",
    "import matplotlib.pyplot as plt\n",
    "\n",
    "import torch\n",
    "import torchvision"
   ]
  },
  {
   "cell_type": "code",
   "execution_count": 0,
   "metadata": {
    "colab": {},
    "colab_type": "code",
    "id": "FCedv50ReIUZ"
   },
   "outputs": [],
   "source": [
    "trainset = torchvision.datasets.FashionMNIST(root='./data', train=True,\n",
    "                                        download=True, transform=None)\n",
    "trainloader = torch.utils.data.DataLoader(trainset, batch_size=4,\n",
    "                                          shuffle=True, num_workers=2)\n",
    "\n",
    "testset = torchvision.datasets.FashionMNIST(root='./data', train=False,\n",
    "                                       download=True, transform=None)\n",
    "testloader = torch.utils.data.DataLoader(testset, batch_size=4,\n",
    "                                         shuffle=False, num_workers=2)\n",
    "\n",
    "#classes = (<перечислите классы как строки>)"
   ]
  },
  {
   "cell_type": "markdown",
   "metadata": {
    "colab_type": "text",
    "id": "CZTfJ0dBWszP"
   },
   "source": [
    "Каждая картинка имеет класс от 0 до 9, расшифровка меток класса:  \n",
    "\n",
    "|class_id|class_name|\n",
    "|----|----|\n",
    "|0| T-shirt/top|\n",
    "|1| Trouser|\n",
    "|2| Pullover|\n",
    "|3| Dress|\n",
    "|4| Coat|\n",
    "|5| Sandal|\n",
    "|6| Shirt|\n",
    "|7| Sneaker|\n",
    "|8| Bag|\n",
    "|9| Ankle boot| "
   ]
  },
  {
   "cell_type": "markdown",
   "metadata": {
    "colab_type": "text",
    "id": "tDLDH6ccfJOB"
   },
   "source": [
    "Посмотрите на датасет.\n",
    "* Сколько в нём классов?\n",
    "* Сколько картинок в train? В test?\n",
    "* Равномерно ли распределено количество классов в train датасете (это можно понять, поработав с полем `train_data` у переменной `trainset`)? в test?\n",
    "* Выведите несколько картинок с помощью `pyplot`"
   ]
  },
  {
   "cell_type": "code",
   "execution_count": 0,
   "metadata": {
    "colab": {},
    "colab_type": "code",
    "id": "xvzxIuFjf--k"
   },
   "outputs": [],
   "source": [
    "<Ваш код здесь (может занимать много ячеек)>"
   ]
  },
  {
   "cell_type": "markdown",
   "metadata": {
    "colab_type": "text",
    "id": "RkDjjoj2Ws04"
   },
   "source": [
    "<h2 style=\"text-align: center;\"><b>Задание</b></h2>"
   ]
  },
  {
   "cell_type": "markdown",
   "metadata": {
    "colab_type": "text",
    "id": "b_DjMGZPWszt"
   },
   "source": [
    "Используя материалы семинаров по многослойным  и свёрточным сетям, напишите:\n",
    "1. MLP, классифицирующий этот датасет\n",
    "2. Свёрточную сеть, классифицирующую этот датасет\n",
    "3. Сравните их качество (по графикам лосса и по Accuracy Score)\n",
    "\n",
    "Если качество, которое получается у  нейросети, выше 95%, то Вы решили задачу с точностью, которую можно использовать в жизни."
   ]
  },
  {
   "cell_type": "code",
   "execution_count": 0,
   "metadata": {
    "colab": {},
    "colab_type": "code",
    "id": "Ev5LShUSWs06"
   },
   "outputs": [],
   "source": [
    "<Ваш код здесь (может занимать много ячеек)> "
   ]
  },
  {
   "cell_type": "code",
   "execution_count": 0,
   "metadata": {
    "colab": {},
    "colab_type": "code",
    "id": "P8W0HbJjWs0-"
   },
   "outputs": [],
   "source": [
    "..."
   ]
  },
  {
   "cell_type": "code",
   "execution_count": 0,
   "metadata": {
    "colab": {},
    "colab_type": "code",
    "id": "zWNQz-SbWs1A"
   },
   "outputs": [],
   "source": [
    "..."
   ]
  }
 ],
 "metadata": {
  "colab": {
   "collapsed_sections": [],
   "name": "homework_fashionmnist.ipynb",
   "provenance": [],
   "version": "0.3.2"
  },
  "kernelspec": {
   "display_name": "Python 3",
   "language": "python",
   "name": "python3"
  },
  "language_info": {
   "codemirror_mode": {
    "name": "ipython",
    "version": 3
   },
   "file_extension": ".py",
   "mimetype": "text/x-python",
   "name": "python",
   "nbconvert_exporter": "python",
   "pygments_lexer": "ipython3",
   "version": "3.8.8"
  },
  "toc": {
   "base_numbering": 1,
   "nav_menu": {},
   "number_sections": true,
   "sideBar": true,
   "skip_h1_title": false,
   "title_cell": "Table of Contents",
   "title_sidebar": "Contents",
   "toc_cell": true,
   "toc_position": {},
   "toc_section_display": true,
   "toc_window_display": true
  }
 },
 "nbformat": 4,
 "nbformat_minor": 1
}
